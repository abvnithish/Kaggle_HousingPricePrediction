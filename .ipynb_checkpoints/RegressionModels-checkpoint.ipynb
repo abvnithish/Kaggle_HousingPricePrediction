{
 "cells": [
  {
   "cell_type": "code",
   "execution_count": 617,
   "metadata": {},
   "outputs": [],
   "source": [
    "import os\n",
    "import numpy as np\n",
    "import pandas as pd\n",
    "import matplotlib.pyplot as plt\n",
    "from time import time\n",
    "from sklearn.model_selection import train_test_split\n",
    "from sklearn.metrics import mean_squared_error\n",
    "%matplotlib inline"
   ]
  },
  {
   "cell_type": "code",
   "execution_count": 618,
   "metadata": {},
   "outputs": [],
   "source": [
    "# Importing the train and test data:\n",
    "train = pd.read_csv('data/train_cleaned.csv')\n",
    "ytrain = pd.read_csv('data/y_train.csv')\n",
    "test = pd.read_csv('data/test_cleaned.csv')"
   ]
  },
  {
   "cell_type": "code",
   "execution_count": 619,
   "metadata": {},
   "outputs": [
    {
     "name": "stdout",
     "output_type": "stream",
     "text": [
      "Train Data: (1460, 260)\n",
      "Test Data: (1459, 260)\n"
     ]
    }
   ],
   "source": [
    "assert(train.shape[0] == ytrain.shape[0])\n",
    "print('Train Data:', train.shape)\n",
    "print('Test Data:', test.shape)"
   ]
  },
  {
   "cell_type": "code",
   "execution_count": 620,
   "metadata": {},
   "outputs": [],
   "source": [
    "x_train, x_val, y_train, y_val = train_test_split(train, ytrain, test_size = 0.2)"
   ]
  },
  {
   "cell_type": "code",
   "execution_count": 621,
   "metadata": {},
   "outputs": [
    {
     "name": "stdout",
     "output_type": "stream",
     "text": [
      "Train Data: (1168, 260)\n",
      "Validation Data: (292, 260)\n"
     ]
    }
   ],
   "source": [
    "assert(x_train.shape[0] == y_train.shape[0])\n",
    "assert(x_val.shape[0] == y_val.shape[0])\n",
    "print('Train Data:', x_train.shape)\n",
    "print('Validation Data:', x_val.shape)"
   ]
  },
  {
   "cell_type": "code",
   "execution_count": 622,
   "metadata": {},
   "outputs": [
    {
     "data": {
      "text/html": [
       "<div>\n",
       "<style scoped>\n",
       "    .dataframe tbody tr th:only-of-type {\n",
       "        vertical-align: middle;\n",
       "    }\n",
       "\n",
       "    .dataframe tbody tr th {\n",
       "        vertical-align: top;\n",
       "    }\n",
       "\n",
       "    .dataframe thead th {\n",
       "        text-align: right;\n",
       "    }\n",
       "</style>\n",
       "<table border=\"1\" class=\"dataframe\">\n",
       "  <thead>\n",
       "    <tr style=\"text-align: right;\">\n",
       "      <th></th>\n",
       "      <th>Id</th>\n",
       "      <th>LotFrontage</th>\n",
       "      <th>LotArea</th>\n",
       "      <th>Street</th>\n",
       "      <th>Alley</th>\n",
       "      <th>LotShape</th>\n",
       "      <th>LandSlope</th>\n",
       "      <th>OverallQual</th>\n",
       "      <th>YearBuilt</th>\n",
       "      <th>YearRemodAdd</th>\n",
       "      <th>...</th>\n",
       "      <th>SaleType_ConLw</th>\n",
       "      <th>SaleType_New</th>\n",
       "      <th>SaleType_Oth</th>\n",
       "      <th>SaleType_WD</th>\n",
       "      <th>SaleCondition_Abnorml</th>\n",
       "      <th>SaleCondition_AdjLand</th>\n",
       "      <th>SaleCondition_Alloca</th>\n",
       "      <th>SaleCondition_Family</th>\n",
       "      <th>SaleCondition_Normal</th>\n",
       "      <th>SaleCondition_Partial</th>\n",
       "    </tr>\n",
       "  </thead>\n",
       "  <tbody>\n",
       "    <tr>\n",
       "      <th>784</th>\n",
       "      <td>785</td>\n",
       "      <td>4.745132</td>\n",
       "      <td>18.097297</td>\n",
       "      <td>0.730463</td>\n",
       "      <td>0.000000</td>\n",
       "      <td>1.540963</td>\n",
       "      <td>0.0</td>\n",
       "      <td>2.259674</td>\n",
       "      <td>14.045907</td>\n",
       "      <td>14.184404</td>\n",
       "      <td>...</td>\n",
       "      <td>0</td>\n",
       "      <td>0</td>\n",
       "      <td>0</td>\n",
       "      <td>1</td>\n",
       "      <td>0</td>\n",
       "      <td>0</td>\n",
       "      <td>0</td>\n",
       "      <td>0</td>\n",
       "      <td>1</td>\n",
       "      <td>0</td>\n",
       "    </tr>\n",
       "    <tr>\n",
       "      <th>939</th>\n",
       "      <td>940</td>\n",
       "      <td>6.233116</td>\n",
       "      <td>23.615501</td>\n",
       "      <td>0.730463</td>\n",
       "      <td>0.730463</td>\n",
       "      <td>1.540963</td>\n",
       "      <td>0.0</td>\n",
       "      <td>2.440268</td>\n",
       "      <td>14.087847</td>\n",
       "      <td>14.103852</td>\n",
       "      <td>...</td>\n",
       "      <td>0</td>\n",
       "      <td>0</td>\n",
       "      <td>0</td>\n",
       "      <td>0</td>\n",
       "      <td>0</td>\n",
       "      <td>0</td>\n",
       "      <td>0</td>\n",
       "      <td>0</td>\n",
       "      <td>1</td>\n",
       "      <td>0</td>\n",
       "    </tr>\n",
       "    <tr>\n",
       "      <th>641</th>\n",
       "      <td>642</td>\n",
       "      <td>6.034741</td>\n",
       "      <td>18.518588</td>\n",
       "      <td>0.730463</td>\n",
       "      <td>0.730463</td>\n",
       "      <td>1.540963</td>\n",
       "      <td>0.0</td>\n",
       "      <td>2.440268</td>\n",
       "      <td>14.184404</td>\n",
       "      <td>14.184404</td>\n",
       "      <td>...</td>\n",
       "      <td>0</td>\n",
       "      <td>0</td>\n",
       "      <td>0</td>\n",
       "      <td>1</td>\n",
       "      <td>0</td>\n",
       "      <td>0</td>\n",
       "      <td>0</td>\n",
       "      <td>0</td>\n",
       "      <td>1</td>\n",
       "      <td>0</td>\n",
       "    </tr>\n",
       "    <tr>\n",
       "      <th>145</th>\n",
       "      <td>146</td>\n",
       "      <td>4.137711</td>\n",
       "      <td>14.920534</td>\n",
       "      <td>0.730463</td>\n",
       "      <td>0.730463</td>\n",
       "      <td>1.540963</td>\n",
       "      <td>0.0</td>\n",
       "      <td>2.259674</td>\n",
       "      <td>14.189087</td>\n",
       "      <td>14.192207</td>\n",
       "      <td>...</td>\n",
       "      <td>0</td>\n",
       "      <td>0</td>\n",
       "      <td>0</td>\n",
       "      <td>1</td>\n",
       "      <td>0</td>\n",
       "      <td>0</td>\n",
       "      <td>0</td>\n",
       "      <td>0</td>\n",
       "      <td>1</td>\n",
       "      <td>0</td>\n",
       "    </tr>\n",
       "    <tr>\n",
       "      <th>1182</th>\n",
       "      <td>1183</td>\n",
       "      <td>7.620056</td>\n",
       "      <td>21.711058</td>\n",
       "      <td>0.730463</td>\n",
       "      <td>0.730463</td>\n",
       "      <td>0.000000</td>\n",
       "      <td>0.0</td>\n",
       "      <td>2.885846</td>\n",
       "      <td>14.176584</td>\n",
       "      <td>14.176584</td>\n",
       "      <td>...</td>\n",
       "      <td>0</td>\n",
       "      <td>0</td>\n",
       "      <td>0</td>\n",
       "      <td>1</td>\n",
       "      <td>1</td>\n",
       "      <td>0</td>\n",
       "      <td>0</td>\n",
       "      <td>0</td>\n",
       "      <td>0</td>\n",
       "      <td>0</td>\n",
       "    </tr>\n",
       "  </tbody>\n",
       "</table>\n",
       "<p>5 rows × 260 columns</p>\n",
       "</div>"
      ],
      "text/plain": [
       "        Id  LotFrontage    LotArea    Street     Alley  LotShape  LandSlope  \\\n",
       "784    785     4.745132  18.097297  0.730463  0.000000  1.540963        0.0   \n",
       "939    940     6.233116  23.615501  0.730463  0.730463  1.540963        0.0   \n",
       "641    642     6.034741  18.518588  0.730463  0.730463  1.540963        0.0   \n",
       "145    146     4.137711  14.920534  0.730463  0.730463  1.540963        0.0   \n",
       "1182  1183     7.620056  21.711058  0.730463  0.730463  0.000000        0.0   \n",
       "\n",
       "      OverallQual  YearBuilt  YearRemodAdd          ...            \\\n",
       "784      2.259674  14.045907     14.184404          ...             \n",
       "939      2.440268  14.087847     14.103852          ...             \n",
       "641      2.440268  14.184404     14.184404          ...             \n",
       "145      2.259674  14.189087     14.192207          ...             \n",
       "1182     2.885846  14.176584     14.176584          ...             \n",
       "\n",
       "      SaleType_ConLw  SaleType_New  SaleType_Oth  SaleType_WD  \\\n",
       "784                0             0             0            1   \n",
       "939                0             0             0            0   \n",
       "641                0             0             0            1   \n",
       "145                0             0             0            1   \n",
       "1182               0             0             0            1   \n",
       "\n",
       "      SaleCondition_Abnorml  SaleCondition_AdjLand  SaleCondition_Alloca  \\\n",
       "784                       0                      0                     0   \n",
       "939                       0                      0                     0   \n",
       "641                       0                      0                     0   \n",
       "145                       0                      0                     0   \n",
       "1182                      1                      0                     0   \n",
       "\n",
       "      SaleCondition_Family  SaleCondition_Normal  SaleCondition_Partial  \n",
       "784                      0                     1                      0  \n",
       "939                      0                     1                      0  \n",
       "641                      0                     1                      0  \n",
       "145                      0                     1                      0  \n",
       "1182                     0                     0                      0  \n",
       "\n",
       "[5 rows x 260 columns]"
      ]
     },
     "execution_count": 622,
     "metadata": {},
     "output_type": "execute_result"
    }
   ],
   "source": [
    "x_train.head()"
   ]
  },
  {
   "cell_type": "code",
   "execution_count": null,
   "metadata": {},
   "outputs": [],
   "source": []
  },
  {
   "cell_type": "markdown",
   "metadata": {},
   "source": [
    "### Scaling Features:"
   ]
  },
  {
   "cell_type": "markdown",
   "metadata": {},
   "source": [
    "Linear models are very much affected by the scale of the features and hence, scaling the features might help the model and hence scaling the features using RobustScaler."
   ]
  },
  {
   "cell_type": "code",
   "execution_count": 605,
   "metadata": {},
   "outputs": [],
   "source": [
    "from sklearn.preprocessing import RobustScaler"
   ]
  },
  {
   "cell_type": "code",
   "execution_count": 606,
   "metadata": {},
   "outputs": [
    {
     "data": {
      "text/plain": [
       "RobustScaler(copy=True, quantile_range=(25.0, 75.0), with_centering=True,\n",
       "       with_scaling=True)"
      ]
     },
     "execution_count": 606,
     "metadata": {},
     "output_type": "execute_result"
    }
   ],
   "source": [
    "rs = RobustScaler()\n",
    "rs.fit(x_train.drop('Id', axis = 1))"
   ]
  },
  {
   "cell_type": "code",
   "execution_count": 607,
   "metadata": {},
   "outputs": [
    {
     "name": "stderr",
     "output_type": "stream",
     "text": [
      "/anaconda3/lib/python3.7/site-packages/pandas/core/frame.py:3697: SettingWithCopyWarning: \n",
      "A value is trying to be set on a copy of a slice from a DataFrame\n",
      "\n",
      "See the caveats in the documentation: http://pandas.pydata.org/pandas-docs/stable/indexing.html#indexing-view-versus-copy\n",
      "  errors=errors)\n"
     ]
    }
   ],
   "source": [
    "#Storing the Train and Validation Ids for future use:\n",
    "trainID = x_train['Id'].copy(deep = True)\n",
    "valID = x_val['Id'].copy(deep = True)\n",
    "trainID = train['Id'].copy(deep = True)\n",
    "testID = test['Id'].copy(deep = True)\n",
    "\n",
    "# Dropping them from the dataset to use them for scaling features:\n",
    "x_train.drop('Id', axis = 1, inplace = True)\n",
    "x_val.drop('Id', axis = 1, inplace = True)\n",
    "train.drop('Id', axis = 1, inplace = True)\n",
    "test.drop('Id', axis = 1, inplace = True)"
   ]
  },
  {
   "cell_type": "code",
   "execution_count": 608,
   "metadata": {},
   "outputs": [],
   "source": [
    "x_train = rs.transform(x_train)\n",
    "x_val = rs.transform(x_val)\n",
    "test = rs.transform(test)"
   ]
  },
  {
   "cell_type": "markdown",
   "metadata": {},
   "source": [
    "### Evaluation:"
   ]
  },
  {
   "cell_type": "markdown",
   "metadata": {},
   "source": [
    "Evaluation method chosen for this problem, as per the Kaggle Competition, is log RMSE. The log RMSE is RMSE between the logarithm of the predicted value and the logarithm of the observed sales price. (Taking logs means that errors in predicting expensive houses and cheap houses will affect the result equally)\n",
    "\n",
    "Since, we've already applied the log transform on the target variable while feature engineering, RMSE of the predictions is calculated to compute log RMSE."
   ]
  },
  {
   "cell_type": "code",
   "execution_count": 294,
   "metadata": {},
   "outputs": [],
   "source": [
    "def log_rmse(y_actual, y_pred):\n",
    "    #y_actual = np.expm1(y_actual)\n",
    "    #y_pred = np.expm1(y_pred)\n",
    "    return np.sqrt(mean_squared_error(y_actual, y_pred))"
   ]
  },
  {
   "cell_type": "code",
   "execution_count": null,
   "metadata": {},
   "outputs": [],
   "source": []
  },
  {
   "cell_type": "markdown",
   "metadata": {},
   "source": [
    "### Baseline"
   ]
  },
  {
   "cell_type": "markdown",
   "metadata": {},
   "source": [
    "Predicting average sale price of the train data as baseline"
   ]
  },
  {
   "cell_type": "code",
   "execution_count": 295,
   "metadata": {},
   "outputs": [],
   "source": [
    "baseline_pred = np.mean(y_train['SalePrice'])"
   ]
  },
  {
   "cell_type": "code",
   "execution_count": 296,
   "metadata": {},
   "outputs": [],
   "source": [
    "baseline_preds = [baseline_pred for i in range(len(x_val))]"
   ]
  },
  {
   "cell_type": "code",
   "execution_count": 297,
   "metadata": {},
   "outputs": [
    {
     "name": "stdout",
     "output_type": "stream",
     "text": [
      "The validation Log RMSE is 0.4166\n"
     ]
    }
   ],
   "source": [
    "print('The validation Log RMSE is {:.4f}'.format(log_rmse(baseline_preds, y_val['SalePrice'])))"
   ]
  },
  {
   "cell_type": "code",
   "execution_count": null,
   "metadata": {},
   "outputs": [],
   "source": []
  },
  {
   "cell_type": "markdown",
   "metadata": {},
   "source": [
    "### Linear Regression:"
   ]
  },
  {
   "cell_type": "code",
   "execution_count": 298,
   "metadata": {},
   "outputs": [],
   "source": [
    "from sklearn.linear_model import LinearRegression"
   ]
  },
  {
   "cell_type": "code",
   "execution_count": 299,
   "metadata": {},
   "outputs": [],
   "source": [
    "lr = LinearRegression()"
   ]
  },
  {
   "cell_type": "code",
   "execution_count": 300,
   "metadata": {},
   "outputs": [
    {
     "data": {
      "text/plain": [
       "LinearRegression(copy_X=True, fit_intercept=True, n_jobs=None,\n",
       "         normalize=False)"
      ]
     },
     "execution_count": 300,
     "metadata": {},
     "output_type": "execute_result"
    }
   ],
   "source": [
    "lr.fit(x_train, y_train['SalePrice'])"
   ]
  },
  {
   "cell_type": "code",
   "execution_count": 301,
   "metadata": {},
   "outputs": [
    {
     "name": "stdout",
     "output_type": "stream",
     "text": [
      "The train Log RMSE is 0.0933\n",
      "The validation Log RMSE is 0.1312\n"
     ]
    }
   ],
   "source": [
    "print('The train Log RMSE is {:.4f}'.format(log_rmse(lr.predict(x_train), y_train['SalePrice'])))\n",
    "print('The validation Log RMSE is {:.4f}'.format(log_rmse(lr.predict(x_val), y_val['SalePrice'])))"
   ]
  },
  {
   "cell_type": "markdown",
   "metadata": {},
   "source": [
    "This is an improvement from the baseline model, but we can clearly see that there is a lot of scope for improvement."
   ]
  },
  {
   "cell_type": "code",
   "execution_count": null,
   "metadata": {},
   "outputs": [],
   "source": []
  },
  {
   "cell_type": "markdown",
   "metadata": {},
   "source": [
    "### Linear Regression with L2 Regularization:"
   ]
  },
  {
   "cell_type": "code",
   "execution_count": 302,
   "metadata": {},
   "outputs": [],
   "source": [
    "from sklearn.linear_model import Ridge"
   ]
  },
  {
   "cell_type": "code",
   "execution_count": 303,
   "metadata": {},
   "outputs": [],
   "source": [
    "lr_ridge = Ridge(alpha= 0.1)"
   ]
  },
  {
   "cell_type": "code",
   "execution_count": 304,
   "metadata": {},
   "outputs": [
    {
     "data": {
      "text/plain": [
       "Ridge(alpha=0.1, copy_X=True, fit_intercept=True, max_iter=None,\n",
       "   normalize=False, random_state=None, solver='auto', tol=0.001)"
      ]
     },
     "execution_count": 304,
     "metadata": {},
     "output_type": "execute_result"
    }
   ],
   "source": [
    "lr_ridge.fit(x_train, y_train['SalePrice'])"
   ]
  },
  {
   "cell_type": "code",
   "execution_count": 305,
   "metadata": {},
   "outputs": [
    {
     "name": "stdout",
     "output_type": "stream",
     "text": [
      "The train Log RMSE is 0.0936\n",
      "The validation Log RMSE is 0.1278\n"
     ]
    }
   ],
   "source": [
    "print('The train Log RMSE is {:.4f}'.format(log_rmse(lr_ridge.predict(x_train), y_train['SalePrice'])))\n",
    "print('The validation Log RMSE is {:.4f}'.format(log_rmse(lr_ridge.predict(x_val), y_val['SalePrice'])))"
   ]
  },
  {
   "cell_type": "code",
   "execution_count": null,
   "metadata": {},
   "outputs": [],
   "source": []
  },
  {
   "cell_type": "markdown",
   "metadata": {},
   "source": [
    "#### Grid Search for tuning alpha value of Ridge regression:"
   ]
  },
  {
   "cell_type": "code",
   "execution_count": 212,
   "metadata": {},
   "outputs": [],
   "source": [
    "from sklearn.linear_model import RidgeCV"
   ]
  },
  {
   "cell_type": "markdown",
   "metadata": {},
   "source": [
    "Performing coarse grid-search for alpha value"
   ]
  },
  {
   "cell_type": "code",
   "execution_count": 307,
   "metadata": {},
   "outputs": [],
   "source": [
    "lr_ridgeCV = RidgeCV(alphas= np.logspace(np.log10(0.0005), np.log10(100), base = 10, num = 20))"
   ]
  },
  {
   "cell_type": "code",
   "execution_count": 308,
   "metadata": {},
   "outputs": [
    {
     "data": {
      "text/plain": [
       "RidgeCV(alphas=array([5.00000e-04, 9.50543e-04, 1.80706e-03, 3.43538e-03, 6.53095e-03,\n",
       "       1.24159e-02, 2.36037e-02, 4.48726e-02, 8.53066e-02, 1.62175e-01,\n",
       "       3.08309e-01, 5.86121e-01, 1.11427e+00, 2.11831e+00, 4.02710e+00,\n",
       "       7.65585e+00, 1.45544e+01, 2.76692e+01, 5.26015e+01, 1.00000e+02]),\n",
       "    cv=None, fit_intercept=True, gcv_mode=None, normalize=False,\n",
       "    scoring=None, store_cv_values=False)"
      ]
     },
     "execution_count": 308,
     "metadata": {},
     "output_type": "execute_result"
    }
   ],
   "source": [
    "lr_ridgeCV.fit(x_train, y_train['SalePrice'])"
   ]
  },
  {
   "cell_type": "code",
   "execution_count": 309,
   "metadata": {},
   "outputs": [
    {
     "name": "stdout",
     "output_type": "stream",
     "text": [
      "Best alpha : 14.554432082969205\n"
     ]
    }
   ],
   "source": [
    "print(\"Best alpha :\", lr_ridgeCV.alpha_)"
   ]
  },
  {
   "cell_type": "code",
   "execution_count": 310,
   "metadata": {},
   "outputs": [
    {
     "name": "stdout",
     "output_type": "stream",
     "text": [
      "The train Log RMSE is 0.1112\n",
      "The validation Log RMSE is 0.1138\n"
     ]
    }
   ],
   "source": [
    "print('The train Log RMSE is {:.4f}'.format(log_rmse(lr_ridgeCV.predict(x_train), y_train['SalePrice'])))\n",
    "print('The validation Log RMSE is {:.4f}'.format(log_rmse(lr_ridgeCV.predict(x_val), y_val['SalePrice'])))"
   ]
  },
  {
   "cell_type": "markdown",
   "metadata": {},
   "source": [
    "Now, performing fine grid search to further tune the alpha value"
   ]
  },
  {
   "cell_type": "code",
   "execution_count": 311,
   "metadata": {},
   "outputs": [],
   "source": [
    "lr_ridgeCV = RidgeCV(alphas= np.linspace(4, 10, num = 20))"
   ]
  },
  {
   "cell_type": "code",
   "execution_count": 313,
   "metadata": {},
   "outputs": [
    {
     "data": {
      "text/plain": [
       "RidgeCV(alphas=array([ 4.     ,  4.31579,  4.63158,  4.94737,  5.26316,  5.57895,\n",
       "        5.89474,  6.21053,  6.52632,  6.84211,  7.15789,  7.47368,\n",
       "        7.78947,  8.10526,  8.42105,  8.73684,  9.05263,  9.36842,\n",
       "        9.68421, 10.     ]),\n",
       "    cv=None, fit_intercept=True, gcv_mode=None, normalize=False,\n",
       "    scoring=None, store_cv_values=False)"
      ]
     },
     "execution_count": 313,
     "metadata": {},
     "output_type": "execute_result"
    }
   ],
   "source": [
    "lr_ridgeCV.fit(x_train, y_train['SalePrice'])"
   ]
  },
  {
   "cell_type": "code",
   "execution_count": 314,
   "metadata": {},
   "outputs": [
    {
     "name": "stdout",
     "output_type": "stream",
     "text": [
      "Best alpha : 10.0\n"
     ]
    }
   ],
   "source": [
    "print(\"Best alpha :\", lr_ridgeCV.alpha_)"
   ]
  },
  {
   "cell_type": "code",
   "execution_count": 315,
   "metadata": {},
   "outputs": [
    {
     "name": "stdout",
     "output_type": "stream",
     "text": [
      "The train Log RMSE is 0.1089\n",
      "The validation Log RMSE is 0.1130\n"
     ]
    }
   ],
   "source": [
    "print('The train Log RMSE is {:.4f}'.format(log_rmse(lr_ridgeCV.predict(x_train), y_train['SalePrice'])))\n",
    "print('The validation Log RMSE is {:.4f}'.format(log_rmse(lr_ridgeCV.predict(x_val), y_val['SalePrice'])))"
   ]
  },
  {
   "cell_type": "code",
   "execution_count": null,
   "metadata": {},
   "outputs": [],
   "source": []
  },
  {
   "cell_type": "markdown",
   "metadata": {},
   "source": [
    "### Linear Regression with L1 Regularization:"
   ]
  },
  {
   "cell_type": "code",
   "execution_count": 182,
   "metadata": {},
   "outputs": [],
   "source": [
    "from sklearn.linear_model import Lasso"
   ]
  },
  {
   "cell_type": "code",
   "execution_count": 318,
   "metadata": {},
   "outputs": [],
   "source": [
    "lr_lasso = Lasso()"
   ]
  },
  {
   "cell_type": "code",
   "execution_count": 319,
   "metadata": {},
   "outputs": [
    {
     "data": {
      "text/plain": [
       "Lasso(alpha=1.0, copy_X=True, fit_intercept=True, max_iter=1000,\n",
       "   normalize=False, positive=False, precompute=False, random_state=None,\n",
       "   selection='cyclic', tol=0.0001, warm_start=False)"
      ]
     },
     "execution_count": 319,
     "metadata": {},
     "output_type": "execute_result"
    }
   ],
   "source": [
    "lr_lasso.fit(x_train, y_train['SalePrice'])"
   ]
  },
  {
   "cell_type": "code",
   "execution_count": 320,
   "metadata": {},
   "outputs": [
    {
     "name": "stdout",
     "output_type": "stream",
     "text": [
      "The train Log RMSE is 0.3732\n",
      "The validation Log RMSE is 0.3958\n"
     ]
    }
   ],
   "source": [
    "print('The train Log RMSE is {:.4f}'.format(log_rmse(lr_lasso.predict(x_train), y_train['SalePrice'])))\n",
    "print('The validation Log RMSE is {:.4f}'.format(log_rmse(lr_lasso.predict(x_val), y_val['SalePrice'])))"
   ]
  },
  {
   "cell_type": "markdown",
   "metadata": {},
   "source": [
    "This must be because of the strong regularization affect of the default alpha value, which is 1.0. We can perform grid search on alpha values to tune the alpha value to obtain a better performance."
   ]
  },
  {
   "cell_type": "code",
   "execution_count": null,
   "metadata": {},
   "outputs": [],
   "source": []
  },
  {
   "cell_type": "markdown",
   "metadata": {},
   "source": [
    "#### Grid Search for tuning alpha value of Lasso regression:"
   ]
  },
  {
   "cell_type": "code",
   "execution_count": 321,
   "metadata": {},
   "outputs": [],
   "source": [
    "from sklearn.linear_model import LassoCV"
   ]
  },
  {
   "cell_type": "markdown",
   "metadata": {},
   "source": [
    "Performing coarse grid-search for alpha value"
   ]
  },
  {
   "cell_type": "code",
   "execution_count": 322,
   "metadata": {},
   "outputs": [],
   "source": [
    "lr_lassoCV = LassoCV(alphas= np.logspace(np.log10(0.0005), np.log10(100), base = 10, num = 20))"
   ]
  },
  {
   "cell_type": "code",
   "execution_count": 323,
   "metadata": {},
   "outputs": [
    {
     "name": "stderr",
     "output_type": "stream",
     "text": [
      "/anaconda3/lib/python3.7/site-packages/sklearn/model_selection/_split.py:2053: FutureWarning: You should specify a value for 'cv' instead of relying on the default value. The default value will change from 3 to 5 in version 0.22.\n",
      "  warnings.warn(CV_WARNING, FutureWarning)\n"
     ]
    },
    {
     "data": {
      "text/plain": [
       "LassoCV(alphas=array([5.00000e-04, 9.50543e-04, 1.80706e-03, 3.43538e-03, 6.53095e-03,\n",
       "       1.24159e-02, 2.36037e-02, 4.48726e-02, 8.53066e-02, 1.62175e-01,\n",
       "       3.08309e-01, 5.86121e-01, 1.11427e+00, 2.11831e+00, 4.02710e+00,\n",
       "       7.65585e+00, 1.45544e+01, 2.76692e+01, 5.26015e+01, 1.00000e+02]),\n",
       "    copy_X=True, cv='warn', eps=0.001, fit_intercept=True, max_iter=1000,\n",
       "    n_alphas=100, n_jobs=None, normalize=False, positive=False,\n",
       "    precompute='auto', random_state=None, selection='cyclic', tol=0.0001,\n",
       "    verbose=False)"
      ]
     },
     "execution_count": 323,
     "metadata": {},
     "output_type": "execute_result"
    }
   ],
   "source": [
    "lr_lassoCV.fit(x_train, y_train['SalePrice'])"
   ]
  },
  {
   "cell_type": "code",
   "execution_count": 324,
   "metadata": {},
   "outputs": [
    {
     "name": "stdout",
     "output_type": "stream",
     "text": [
      "Best alpha : 0.0004999999999999999\n"
     ]
    }
   ],
   "source": [
    "print(\"Best alpha :\", lr_lassoCV.alpha_)"
   ]
  },
  {
   "cell_type": "code",
   "execution_count": 325,
   "metadata": {},
   "outputs": [
    {
     "name": "stdout",
     "output_type": "stream",
     "text": [
      "The train Log RMSE is 0.1048\n",
      "The validation Log RMSE is 0.1110\n"
     ]
    }
   ],
   "source": [
    "print('The train Log RMSE is {:.4f}'.format(log_rmse(lr_lassoCV.predict(x_train), y_train['SalePrice'])))\n",
    "print('The validation Log RMSE is {:.4f}'.format(log_rmse(lr_lassoCV.predict(x_val), y_val['SalePrice'])))"
   ]
  },
  {
   "cell_type": "markdown",
   "metadata": {},
   "source": [
    "Now, performing fine grid search to further tune the alpha value"
   ]
  },
  {
   "cell_type": "code",
   "execution_count": 326,
   "metadata": {},
   "outputs": [],
   "source": [
    "lr_lassoCV = LassoCV(alphas= np.logspace(np.log10(0.0001), np.log10(0.001), base = 10, num = 20))"
   ]
  },
  {
   "cell_type": "code",
   "execution_count": 327,
   "metadata": {},
   "outputs": [
    {
     "name": "stderr",
     "output_type": "stream",
     "text": [
      "/anaconda3/lib/python3.7/site-packages/sklearn/model_selection/_split.py:2053: FutureWarning: You should specify a value for 'cv' instead of relying on the default value. The default value will change from 3 to 5 in version 0.22.\n",
      "  warnings.warn(CV_WARNING, FutureWarning)\n"
     ]
    },
    {
     "data": {
      "text/plain": [
       "LassoCV(alphas=array([0.0001 , 0.00011, 0.00013, 0.00014, 0.00016, 0.00018, 0.00021,\n",
       "       0.00023, 0.00026, 0.0003 , 0.00034, 0.00038, 0.00043, 0.00048,\n",
       "       0.00055, 0.00062, 0.0007 , 0.00078, 0.00089, 0.001  ]),\n",
       "    copy_X=True, cv='warn', eps=0.001, fit_intercept=True, max_iter=1000,\n",
       "    n_alphas=100, n_jobs=None, normalize=False, positive=False,\n",
       "    precompute='auto', random_state=None, selection='cyclic', tol=0.0001,\n",
       "    verbose=False)"
      ]
     },
     "execution_count": 327,
     "metadata": {},
     "output_type": "execute_result"
    }
   ],
   "source": [
    "lr_lassoCV.fit(x_train, y_train['SalePrice'])"
   ]
  },
  {
   "cell_type": "code",
   "execution_count": 328,
   "metadata": {},
   "outputs": [
    {
     "name": "stdout",
     "output_type": "stream",
     "text": [
      "Best alpha : 0.0004832930238571752\n"
     ]
    }
   ],
   "source": [
    "print(\"Best alpha :\", lr_lassoCV.alpha_)"
   ]
  },
  {
   "cell_type": "code",
   "execution_count": 329,
   "metadata": {},
   "outputs": [
    {
     "name": "stdout",
     "output_type": "stream",
     "text": [
      "The train Log RMSE is 0.1044\n",
      "The validation Log RMSE is 0.1109\n"
     ]
    }
   ],
   "source": [
    "print('The train Log RMSE is {:.4f}'.format(log_rmse(lr_lassoCV.predict(x_train), y_train['SalePrice'])))\n",
    "print('The validation Log RMSE is {:.4f}'.format(log_rmse(lr_lassoCV.predict(x_val), y_val['SalePrice'])))"
   ]
  },
  {
   "cell_type": "code",
   "execution_count": null,
   "metadata": {},
   "outputs": [],
   "source": []
  },
  {
   "cell_type": "markdown",
   "metadata": {},
   "source": [
    "### Random Forest Regressor:"
   ]
  },
  {
   "cell_type": "code",
   "execution_count": 351,
   "metadata": {},
   "outputs": [],
   "source": [
    "from sklearn.ensemble import RandomForestRegressor"
   ]
  },
  {
   "cell_type": "code",
   "execution_count": 355,
   "metadata": {},
   "outputs": [],
   "source": [
    "rf = RandomForestRegressor()"
   ]
  },
  {
   "cell_type": "code",
   "execution_count": 356,
   "metadata": {},
   "outputs": [
    {
     "name": "stderr",
     "output_type": "stream",
     "text": [
      "/anaconda3/lib/python3.7/site-packages/sklearn/ensemble/forest.py:246: FutureWarning: The default value of n_estimators will change from 10 in version 0.20 to 100 in 0.22.\n",
      "  \"10 in version 0.20 to 100 in 0.22.\", FutureWarning)\n"
     ]
    },
    {
     "data": {
      "text/plain": [
       "RandomForestRegressor(bootstrap=True, criterion='mse', max_depth=None,\n",
       "           max_features='auto', max_leaf_nodes=None,\n",
       "           min_impurity_decrease=0.0, min_impurity_split=None,\n",
       "           min_samples_leaf=10, min_samples_split=10,\n",
       "           min_weight_fraction_leaf=0.0, n_estimators=10, n_jobs=None,\n",
       "           oob_score=False, random_state=None, verbose=0, warm_start=False)"
      ]
     },
     "execution_count": 356,
     "metadata": {},
     "output_type": "execute_result"
    }
   ],
   "source": [
    "rf.fit(x_train, y_train['SalePrice'])"
   ]
  },
  {
   "cell_type": "code",
   "execution_count": 357,
   "metadata": {},
   "outputs": [
    {
     "name": "stdout",
     "output_type": "stream",
     "text": [
      "The train Log RMSE is 0.1247\n",
      "The validation Log RMSE is 0.1533\n"
     ]
    }
   ],
   "source": [
    "print('The train Log RMSE is {:.4f}'.format(log_rmse(rf.predict(x_train), y_train['SalePrice'])))\n",
    "print('The validation Log RMSE is {:.4f}'.format(log_rmse(rf.predict(x_val), y_val['SalePrice'])))"
   ]
  },
  {
   "cell_type": "markdown",
   "metadata": {},
   "source": [
    "We can see that the model performance has improved by choosing a more complex and flexible model that can better discern the trends in the data. But again, we have the problem of the overfitting and hence we've to tune the model to reduce the overfitting of the model to the train dataset to improve the validation dataset performance."
   ]
  },
  {
   "cell_type": "code",
   "execution_count": null,
   "metadata": {},
   "outputs": [],
   "source": []
  },
  {
   "cell_type": "code",
   "execution_count": 359,
   "metadata": {},
   "outputs": [
    {
     "name": "stdout",
     "output_type": "stream",
     "text": [
      "Fitting 3 folds for each of 192 candidates, totalling 576 fits\n"
     ]
    },
    {
     "name": "stderr",
     "output_type": "stream",
     "text": [
      "[Parallel(n_jobs=6)]: Using backend LokyBackend with 6 concurrent workers.\n",
      "[Parallel(n_jobs=6)]: Done  38 tasks      | elapsed:    5.7s\n",
      "[Parallel(n_jobs=6)]: Done 188 tasks      | elapsed:   39.6s\n",
      "[Parallel(n_jobs=6)]: Done 438 tasks      | elapsed:  2.3min\n",
      "[Parallel(n_jobs=6)]: Done 576 out of 576 | elapsed:  3.2min finished\n"
     ]
    },
    {
     "name": "stdout",
     "output_type": "stream",
     "text": [
      "GridSearchCV took 208.91 seconds for 192 candidate parameter settings.\n"
     ]
    }
   ],
   "source": [
    "clf = RandomForestRegressor()\n",
    "\n",
    "param_grid = {'min_samples_split': [2, 10, 50, 100],\n",
    "              'min_samples_leaf': [1, 10, 50, 100],\n",
    "              'n_estimators': [100, 500, 1000],\n",
    "              'max_depth': [1, 5, 10, None]\n",
    "             }\n",
    "\n",
    "# run grid search\n",
    "grid_search = GridSearchCV(clf, param_grid=param_grid, cv=3, scoring= 'neg_mean_squared_error', n_jobs = 6, verbose=True)\n",
    "start = time()\n",
    "grid_search.fit(x_train, y_train['SalePrice'])\n",
    "\n",
    "print(\"GridSearchCV took %.2f seconds for %d candidate parameter settings.\"\n",
    "      % (time() - start, len(grid_search.cv_results_['params'])))"
   ]
  },
  {
   "cell_type": "code",
   "execution_count": 360,
   "metadata": {},
   "outputs": [
    {
     "data": {
      "text/plain": [
       "(-0.02250919145728302,\n",
       " {'max_depth': None,\n",
       "  'min_samples_leaf': 1,\n",
       "  'min_samples_split': 2,\n",
       "  'n_estimators': 1000})"
      ]
     },
     "execution_count": 360,
     "metadata": {},
     "output_type": "execute_result"
    }
   ],
   "source": [
    "grid_search.best_score_, grid_search.best_params_"
   ]
  },
  {
   "cell_type": "code",
   "execution_count": null,
   "metadata": {},
   "outputs": [],
   "source": []
  },
  {
   "cell_type": "code",
   "execution_count": 513,
   "metadata": {},
   "outputs": [],
   "source": [
    "rf = RandomForestRegressor(max_depth = 10, min_samples_split= 2, min_samples_leaf= 1)#, min_samples_leaf= 20, min_samples_split= 15)"
   ]
  },
  {
   "cell_type": "code",
   "execution_count": 514,
   "metadata": {},
   "outputs": [
    {
     "name": "stderr",
     "output_type": "stream",
     "text": [
      "/anaconda3/lib/python3.7/site-packages/sklearn/ensemble/forest.py:246: FutureWarning: The default value of n_estimators will change from 10 in version 0.20 to 100 in 0.22.\n",
      "  \"10 in version 0.20 to 100 in 0.22.\", FutureWarning)\n"
     ]
    },
    {
     "data": {
      "text/plain": [
       "RandomForestRegressor(bootstrap=True, criterion='mse', max_depth=10,\n",
       "           max_features='auto', max_leaf_nodes=None,\n",
       "           min_impurity_decrease=0.0, min_impurity_split=None,\n",
       "           min_samples_leaf=1, min_samples_split=2,\n",
       "           min_weight_fraction_leaf=0.0, n_estimators=10, n_jobs=None,\n",
       "           oob_score=False, random_state=None, verbose=0, warm_start=False)"
      ]
     },
     "execution_count": 514,
     "metadata": {},
     "output_type": "execute_result"
    }
   ],
   "source": [
    "rf.fit(x_train, y_train['SalePrice'])"
   ]
  },
  {
   "cell_type": "code",
   "execution_count": 515,
   "metadata": {},
   "outputs": [
    {
     "name": "stdout",
     "output_type": "stream",
     "text": [
      "The train Log RMSE is 0.0715\n",
      "The validation Log RMSE is 0.1536\n"
     ]
    }
   ],
   "source": [
    "print('The train Log RMSE is {:.4f}'.format(log_rmse(rf.predict(x_train), y_train['SalePrice'])))\n",
    "print('The validation Log RMSE is {:.4f}'.format(log_rmse(rf.predict(x_val), y_val['SalePrice'])))"
   ]
  },
  {
   "cell_type": "code",
   "execution_count": null,
   "metadata": {},
   "outputs": [],
   "source": []
  },
  {
   "cell_type": "code",
   "execution_count": null,
   "metadata": {},
   "outputs": [],
   "source": []
  },
  {
   "cell_type": "markdown",
   "metadata": {},
   "source": [
    "### Gradient Boosting Algorithm:"
   ]
  },
  {
   "cell_type": "code",
   "execution_count": 397,
   "metadata": {},
   "outputs": [],
   "source": [
    "from sklearn.ensemble import GradientBoostingRegressor"
   ]
  },
  {
   "cell_type": "code",
   "execution_count": 398,
   "metadata": {},
   "outputs": [],
   "source": [
    "gbr = GradientBoostingRegressor(n_estimators = 1000)"
   ]
  },
  {
   "cell_type": "code",
   "execution_count": 399,
   "metadata": {},
   "outputs": [
    {
     "data": {
      "text/plain": [
       "GradientBoostingRegressor(alpha=0.9, criterion='friedman_mse', init=None,\n",
       "             learning_rate=0.1, loss='ls', max_depth=3, max_features=None,\n",
       "             max_leaf_nodes=None, min_impurity_decrease=0.0,\n",
       "             min_impurity_split=None, min_samples_leaf=1,\n",
       "             min_samples_split=2, min_weight_fraction_leaf=0.0,\n",
       "             n_estimators=1000, n_iter_no_change=None, presort='auto',\n",
       "             random_state=None, subsample=1.0, tol=0.0001,\n",
       "             validation_fraction=0.1, verbose=0, warm_start=False)"
      ]
     },
     "execution_count": 399,
     "metadata": {},
     "output_type": "execute_result"
    }
   ],
   "source": [
    "gbr.fit(x_train, y_train['SalePrice'])"
   ]
  },
  {
   "cell_type": "code",
   "execution_count": 400,
   "metadata": {},
   "outputs": [
    {
     "name": "stdout",
     "output_type": "stream",
     "text": [
      "The train Log RMSE is 0.0155\n",
      "The validation Log RMSE is 0.1256\n"
     ]
    }
   ],
   "source": [
    "print('The train Log RMSE is {:.4f}'.format(log_rmse(gbr.predict(x_train), y_train['SalePrice'])))\n",
    "print('The validation Log RMSE is {:.4f}'.format(log_rmse(gbr.predict(x_val), y_val['SalePrice'])))"
   ]
  },
  {
   "cell_type": "code",
   "execution_count": null,
   "metadata": {},
   "outputs": [],
   "source": []
  },
  {
   "cell_type": "markdown",
   "metadata": {},
   "source": [
    "### Grid Search to obtain Best Parameters:"
   ]
  },
  {
   "cell_type": "markdown",
   "metadata": {},
   "source": [
    "First we perform coarse grid search and then we can further narrow down on the hyper-parameters, if we want to, to find the ideal optimal parameters"
   ]
  },
  {
   "cell_type": "code",
   "execution_count": 423,
   "metadata": {},
   "outputs": [
    {
     "name": "stdout",
     "output_type": "stream",
     "text": [
      "Fitting 3 folds for each of 432 candidates, totalling 1296 fits\n"
     ]
    },
    {
     "name": "stderr",
     "output_type": "stream",
     "text": [
      "[Parallel(n_jobs=6)]: Using backend LokyBackend with 6 concurrent workers.\n",
      "[Parallel(n_jobs=6)]: Done  38 tasks      | elapsed:   35.7s\n",
      "[Parallel(n_jobs=6)]: Done 188 tasks      | elapsed:  3.0min\n",
      "[Parallel(n_jobs=6)]: Done 438 tasks      | elapsed:  8.5min\n",
      "[Parallel(n_jobs=6)]: Done 788 tasks      | elapsed: 16.0min\n",
      "[Parallel(n_jobs=6)]: Done 1238 tasks      | elapsed: 26.6min\n",
      "[Parallel(n_jobs=6)]: Done 1296 out of 1296 | elapsed: 27.5min finished\n"
     ]
    },
    {
     "name": "stdout",
     "output_type": "stream",
     "text": [
      "GridSearchCV took 1654.25 seconds for 432 candidate parameter settings.\n"
     ]
    }
   ],
   "source": [
    "clf = GradientBoostingRegressor()\n",
    "\n",
    "param_grid = {'learning_rate': [0.1, 0.05, 0.01],\n",
    "              'max_depth': [3, 7, 10],\n",
    "              'min_samples_leaf': [1, 20, 50, 100],\n",
    "              \"min_samples_split\": [2, 10, 25, 50],\n",
    "              \"n_estimators\": [1000],\n",
    "              \"subsample\": [0.6, 0.8, 1.0]\n",
    "             }\n",
    "\n",
    "# run grid search\n",
    "grid_search = GridSearchCV(clf, param_grid=param_grid, cv=3, scoring= 'neg_mean_squared_error', n_jobs = 6, verbose=True)\n",
    "start = time()\n",
    "grid_search.fit(x_train, y_train['SalePrice'])\n",
    "\n",
    "print(\"GridSearchCV took %.2f seconds for %d candidate parameter settings.\"\n",
    "      % (time() - start, len(grid_search.cv_results_['params'])))"
   ]
  },
  {
   "cell_type": "code",
   "execution_count": 424,
   "metadata": {},
   "outputs": [
    {
     "data": {
      "text/plain": [
       "(-0.01675222585912139,\n",
       " {'learning_rate': 0.05,\n",
       "  'max_depth': 3,\n",
       "  'min_samples_leaf': 1,\n",
       "  'min_samples_split': 25,\n",
       "  'n_estimators': 1000,\n",
       "  'subsample': 0.6})"
      ]
     },
     "execution_count": 424,
     "metadata": {},
     "output_type": "execute_result"
    }
   ],
   "source": [
    "grid_search.best_score_, grid_search.best_params_"
   ]
  },
  {
   "cell_type": "code",
   "execution_count": null,
   "metadata": {},
   "outputs": [],
   "source": []
  },
  {
   "cell_type": "code",
   "execution_count": 425,
   "metadata": {},
   "outputs": [],
   "source": [
    "gbr = GradientBoostingRegressor(n_estimators= 1000, learning_rate= 0.01, max_depth= 7, min_samples_leaf=1, min_samples_split= 25, subsample= 0.6)"
   ]
  },
  {
   "cell_type": "code",
   "execution_count": 426,
   "metadata": {},
   "outputs": [
    {
     "data": {
      "text/plain": [
       "GradientBoostingRegressor(alpha=0.9, criterion='friedman_mse', init=None,\n",
       "             learning_rate=0.01, loss='ls', max_depth=7, max_features=None,\n",
       "             max_leaf_nodes=None, min_impurity_decrease=0.0,\n",
       "             min_impurity_split=None, min_samples_leaf=1,\n",
       "             min_samples_split=25, min_weight_fraction_leaf=0.0,\n",
       "             n_estimators=1000, n_iter_no_change=None, presort='auto',\n",
       "             random_state=None, subsample=0.6, tol=0.0001,\n",
       "             validation_fraction=0.1, verbose=0, warm_start=False)"
      ]
     },
     "execution_count": 426,
     "metadata": {},
     "output_type": "execute_result"
    }
   ],
   "source": [
    "gbr.fit(x_train, y_train['SalePrice'])"
   ]
  },
  {
   "cell_type": "code",
   "execution_count": 427,
   "metadata": {},
   "outputs": [
    {
     "name": "stdout",
     "output_type": "stream",
     "text": [
      "The train Log RMSE is 0.0328\n",
      "The validation Log RMSE is 0.1254\n"
     ]
    }
   ],
   "source": [
    "print('The train Log RMSE is {:.4f}'.format(log_rmse(gbr.predict(x_train), y_train['SalePrice'])))\n",
    "print('The validation Log RMSE is {:.4f}'.format(log_rmse(gbr.predict(x_val), y_val['SalePrice'])))"
   ]
  },
  {
   "cell_type": "code",
   "execution_count": null,
   "metadata": {},
   "outputs": [],
   "source": []
  },
  {
   "cell_type": "markdown",
   "metadata": {},
   "source": [
    "### XGBoost"
   ]
  },
  {
   "cell_type": "code",
   "execution_count": 432,
   "metadata": {},
   "outputs": [],
   "source": [
    "import xgboost as xgb"
   ]
  },
  {
   "cell_type": "code",
   "execution_count": 433,
   "metadata": {},
   "outputs": [],
   "source": [
    "xgb_model = xgb.XGBRegressor(n_estimators= 1000)"
   ]
  },
  {
   "cell_type": "code",
   "execution_count": 434,
   "metadata": {},
   "outputs": [
    {
     "data": {
      "text/plain": [
       "XGBRegressor(base_score=0.5, booster='gbtree', colsample_bylevel=1,\n",
       "       colsample_bytree=1, gamma=0, learning_rate=0.1, max_delta_step=0,\n",
       "       max_depth=3, min_child_weight=1, missing=None, n_estimators=1000,\n",
       "       n_jobs=1, nthread=None, objective='reg:linear', random_state=0,\n",
       "       reg_alpha=0, reg_lambda=1, scale_pos_weight=1, seed=None,\n",
       "       silent=True, subsample=1)"
      ]
     },
     "execution_count": 434,
     "metadata": {},
     "output_type": "execute_result"
    }
   ],
   "source": [
    "xgb_model.fit(x_train, y_train['SalePrice'])"
   ]
  },
  {
   "cell_type": "code",
   "execution_count": 435,
   "metadata": {},
   "outputs": [
    {
     "name": "stdout",
     "output_type": "stream",
     "text": [
      "The train Log RMSE is 0.0201\n",
      "The validation Log RMSE is 0.1285\n"
     ]
    }
   ],
   "source": [
    "print('The train Log RMSE is {:.4f}'.format(log_rmse(xgb_model.predict(x_train), y_train['SalePrice'])))\n",
    "print('The validation Log RMSE is {:.4f}'.format(log_rmse(xgb_model.predict(x_val), y_val['SalePrice'])))"
   ]
  },
  {
   "cell_type": "code",
   "execution_count": null,
   "metadata": {},
   "outputs": [],
   "source": []
  },
  {
   "cell_type": "markdown",
   "metadata": {},
   "source": [
    "### Hyper-Parameter Tuning for XGBoost:"
   ]
  },
  {
   "cell_type": "markdown",
   "metadata": {},
   "source": [
    "#### Grid Search to obtain Best Parameters:"
   ]
  },
  {
   "cell_type": "markdown",
   "metadata": {},
   "source": [
    "First we perform coarse grid search and then we can further narrow down on the hyper-parameters, if we want to, to find the ideal optimal parameters"
   ]
  },
  {
   "cell_type": "code",
   "execution_count": 478,
   "metadata": {},
   "outputs": [],
   "source": [
    "from sklearn.model_selection import KFold\n",
    "\n",
    "def xValXGBoost(dataset, target, k, cs):\n",
    "\n",
    "    kf = KFold(n_splits = k)\n",
    "    \n",
    "    train_errors = {c : [] for c in cs}\n",
    "    val_errors = {c : [] for c in cs}\n",
    "    \n",
    "    for train, validate in kf.split(dataset):\n",
    "        \n",
    "        cv_train, cv_validate = dataset.iloc[train], dataset.iloc[validate]\n",
    "        cv_train_Y, cv_validate_Y = target.iloc[train], target.iloc[validate]\n",
    "        \n",
    "        for c in cs:\n",
    "            xgb_model = xgb.XGBRegressor(booster='gbtree', max_depth = 7, n_estimators= 1000, learning_rate= 0.01, min_child_weight = 8, gamma = 0, reg_lambda = 0.00001, reg_alpha= 0.1)\n",
    "            xgb_model.fit(cv_train, cv_train_Y)\n",
    "            \n",
    "            train_error_c = log_rmse(xgb_model.predict(cv_train), cv_train_Y)\n",
    "            val_error_c = log_rmse(xgb_model.predict(cv_validate), cv_validate_Y)\n",
    "            train_errors[c] += [train_error_c]\n",
    "            val_errors[c] += [val_error_c]\n",
    "\n",
    "    return train_errors, val_errors"
   ]
  },
  {
   "cell_type": "markdown",
   "metadata": {},
   "source": [
    "#### Max_depth Tuning"
   ]
  },
  {
   "cell_type": "code",
   "execution_count": 453,
   "metadata": {},
   "outputs": [
    {
     "data": {
      "image/png": "[encoded data removed]",
      "text/plain": [
       "<Figure size 720x432 with 1 Axes>"
      ]
     },
     "metadata": {
      "needs_background": "light"
     },
     "output_type": "display_data"
    }
   ],
   "source": [
    "m_depth = [i for i in range(3, 11)]\n",
    "train_errors_m_depth, val_errors_m_depth = xValXGBoost(pd.DataFrame(x_train), y_train['SalePrice'], 'max_depth' 3, m_depth)\n",
    "\n",
    "#Calculating the Mean and the standard errors corresponding to the C values and the 1 standard error Mean(AUC) value:\n",
    "train_mean_m_depth = {i: sum(train_errors_m_depth[i])/len(train_errors_m_depth[i]) for i in train_errors_m_depth.keys()}\n",
    "val_mean_m_depth = {i: sum(val_errors_m_depth[i])/len(val_errors_m_depth[i]) for i in val_errors_m_depth.keys()}\n",
    "\n",
    "#Plotting the graph as per the description above:\n",
    "plt.figure(figsize = (10,6))\n",
    "plt.plot(m_depth, train_mean_m_depth.values(), label = 'Train Mean Values')\n",
    "plt.plot(m_depth, val_mean_m_depth.values(), label = 'Val Mean Values')\n",
    "#plt.xticks(np.log10(lr), np.round(lr, 2))\n",
    "plt.xlabel('Max Depth')\n",
    "plt.ylabel('Mean(errors)')\n",
    "plt.title('Cross Validation errors + Confidence Limits \\n as a Function of Max Depth Values')\n",
    "plt.legend(loc = 'lower right')\n",
    "plt.show()"
   ]
  },
  {
   "cell_type": "markdown",
   "metadata": {},
   "source": [
    "#### Estimators Tuning"
   ]
  },
  {
   "cell_type": "code",
   "execution_count": 456,
   "metadata": {},
   "outputs": [
    {
     "data": {
      "image/png": "[encoded data removed]",
      "text/plain": [
       "<Figure size 720x432 with 1 Axes>"
      ]
     },
     "metadata": {
      "needs_background": "light"
     },
     "output_type": "display_data"
    }
   ],
   "source": [
    "est = np.delete(np.linspace(0, 5000, 11, dtype = 'int'), 0)\n",
    "train_errors_est, val_errors_est = xValXGBoost(pd.DataFrame(x_train), y_train['SalePrice'], 3, est)\n",
    "\n",
    "#Calculating the Mean and the standard errors corresponding to the C values and the 1 standard error Mean(AUC) value:\n",
    "train_mean_est = {i: sum(train_errors_est[i])/len(train_errors_est[i]) for i in train_errors_est.keys()}\n",
    "val_mean_est = {i: sum(val_errors_est[i])/len(val_errors_est[i]) for i in val_errors_est.keys()}\n",
    "\n",
    "#Plotting the graph as per the description above:\n",
    "plt.figure(figsize = (10,6))\n",
    "plt.plot(est, train_mean_est.values(), label = 'Train Mean Values')\n",
    "plt.plot(est, val_mean_est.values(), label = 'Val Mean Values')\n",
    "plt.xlabel('#Estimators')\n",
    "plt.ylabel('Mean(errors)')\n",
    "plt.title('Cross Validation errors + Confidence Limits \\n as a Function of #Estimators')\n",
    "plt.legend(loc = 'lower right')\n",
    "plt.show()"
   ]
  },
  {
   "cell_type": "markdown",
   "metadata": {},
   "source": [
    "#### Learning Rate Tuning"
   ]
  },
  {
   "cell_type": "code",
   "execution_count": 465,
   "metadata": {},
   "outputs": [
    {
     "data": {
      "image/png": "[encoded data removed]",
      "text/plain": [
       "<Figure size 720x432 with 1 Axes>"
      ]
     },
     "metadata": {
      "needs_background": "light"
     },
     "output_type": "display_data"
    }
   ],
   "source": [
    "lr = np.logspace(np.log10(0.005), np.log10(1), base = 10, num = 10)\n",
    "train_errors_lr, val_errors_lr = xValXGBoost(pd.DataFrame(x_train), y_train['SalePrice'], 3, lr)\n",
    "\n",
    "#Calculating the Mean and the standard errors corresponding to the C values and the 1 standard error Mean(AUC) value:\n",
    "train_mean_lr = {i: sum(train_errors_lr[i])/len(train_errors_lr[i]) for i in train_errors_lr.keys()}\n",
    "val_mean_lr = {i: sum(val_errors_lr[i])/len(val_errors_lr[i]) for i in val_errors_lr.keys()}\n",
    "\n",
    "#Plotting the graph as per the description above:\n",
    "plt.figure(figsize = (10,6))\n",
    "plt.plot(np.log10(lr), train_mean_lr.values(), label = 'Train Mean Values')\n",
    "plt.plot(np.log10(lr), val_mean_lr.values(), label = 'Val Mean Values')\n",
    "plt.xticks(np.log10(lr), np.round(lr, 2))\n",
    "plt.xlabel('Learning Rate')\n",
    "plt.ylabel('Mean(errors)')\n",
    "plt.title('Cross Validation errors + Confidence Limits \\n as a Function of Learning Rate Values')\n",
    "plt.legend(loc = 'lower right')\n",
    "plt.show()"
   ]
  },
  {
   "cell_type": "markdown",
   "metadata": {},
   "source": [
    "From the above graph, we can see that the sweet spot for learning rate is around 0.01"
   ]
  },
  {
   "cell_type": "markdown",
   "metadata": {},
   "source": [
    "#### Min Child Weight Tuning"
   ]
  },
  {
   "cell_type": "code",
   "execution_count": 467,
   "metadata": {},
   "outputs": [
    {
     "data": {
      "image/png": "[encoded data removed]",
      "text/plain": [
       "<Figure size 720x432 with 1 Axes>"
      ]
     },
     "metadata": {
      "needs_background": "light"
     },
     "output_type": "display_data"
    }
   ],
   "source": [
    "m_child = list(range(1,11,1))\n",
    "train_errors_m_child, val_errors_m_child = xValXGBoost(pd.DataFrame(x_train), y_train['SalePrice'], 3, m_child)\n",
    "\n",
    "#Calculating the Mean and the standard errors corresponding to the C values and the 1 standard error Mean(AUC) value:\n",
    "train_mean_m_child = {i: sum(train_errors_m_child[i])/len(train_errors_m_child[i]) for i in train_errors_m_child.keys()}\n",
    "val_mean_m_child = {i: sum(val_errors_m_child[i])/len(val_errors_m_child[i]) for i in val_errors_m_child.keys()}\n",
    "\n",
    "#Plotting the graph as per the description above:\n",
    "plt.figure(figsize = (10,6))\n",
    "plt.plot(m_child, train_mean_m_child.values(), label = 'Train Mean Values')\n",
    "plt.plot(m_child, val_mean_m_child.values(), label = 'Val Mean Values')\n",
    "plt.xlabel('Min Child Weight')\n",
    "plt.ylabel('Mean(errors)')\n",
    "plt.title('Cross Validation errors + Confidence Limits \\n as a Function of Min Child Weight Values')\n",
    "plt.legend(loc = 'lower right')\n",
    "plt.show()"
   ]
  },
  {
   "cell_type": "markdown",
   "metadata": {},
   "source": [
    "#### Gamma Tuning"
   ]
  },
  {
   "cell_type": "code",
   "execution_count": 471,
   "metadata": {},
   "outputs": [
    {
     "data": {
      "image/png": "[encoded data removed]",
      "text/plain": [
       "<Figure size 720x432 with 1 Axes>"
      ]
     },
     "metadata": {
      "needs_background": "light"
     },
     "output_type": "display_data"
    }
   ],
   "source": [
    "gm = np.linspace(0, 5, 11)\n",
    "train_errors_gm, val_errors_gm = xValXGBoost(pd.DataFrame(x_train), y_train['SalePrice'], 3, gm)\n",
    "\n",
    "#Calculating the Mean and the standard errors corresponding to the C values and the 1 standard error Mean(AUC) value:\n",
    "train_mean_gm = {i: sum(train_errors_gm[i])/len(train_errors_gm[i]) for i in train_errors_gm.keys()}\n",
    "val_mean_gm = {i: sum(val_errors_gm[i])/len(val_errors_gm[i]) for i in val_errors_gm.keys()}\n",
    "\n",
    "#Plotting the graph as per the description above:\n",
    "plt.figure(figsize = (10,6))\n",
    "plt.plot(gm, train_mean_gm.values(), label = 'Train Mean Values')\n",
    "plt.plot(gm, val_mean_gm.values(), label = 'Val Mean Values')\n",
    "plt.xlabel('Gamma')\n",
    "plt.ylabel('Mean(errors)')\n",
    "plt.title('Cross Validation errors + Confidence Limits \\n as a Function of Gamma Values')\n",
    "plt.legend(loc = 'lower right')\n",
    "plt.show()"
   ]
  },
  {
   "cell_type": "markdown",
   "metadata": {},
   "source": [
    "#### L2 Regularization - Lambda Tuning"
   ]
  },
  {
   "cell_type": "code",
   "execution_count": 473,
   "metadata": {},
   "outputs": [
    {
     "data": {
      "image/png": "[encoded data removed]",
      "text/plain": [
       "<Figure size 720x432 with 1 Axes>"
      ]
     },
     "metadata": {
      "needs_background": "light"
     },
     "output_type": "display_data"
    }
   ],
   "source": [
    "lmbda = [1e-5, 1e-2, 0.1, 1, 10, 100]\n",
    "train_errors_lmbda, val_errors_lmbda = xValXGBoost(pd.DataFrame(x_train), y_train['SalePrice'], 3, lmbda)\n",
    "\n",
    "#Calculating the Mean and the standard errors corresponding to the C values and the 1 standard error Mean(AUC) value:\n",
    "train_mean_lmbda = {i: sum(train_errors_lmbda[i])/len(train_errors_lmbda[i]) for i in train_errors_lmbda.keys()}\n",
    "val_mean_lmbda = {i: sum(val_errors_lmbda[i])/len(val_errors_lmbda[i]) for i in val_errors_lmbda.keys()}\n",
    "\n",
    "#Plotting the graph as per the description above:\n",
    "plt.figure(figsize = (10,6))\n",
    "plt.plot(np.log10(lmbda), train_mean_lmbda.values(), label = 'Train Mean Values')\n",
    "plt.plot(np.log10(lmbda), val_mean_lmbda.values(), label = 'Val Mean Values')\n",
    "plt.xlabel('L2 Regularization - Lambda')\n",
    "plt.ylabel('Mean(errors)')\n",
    "plt.title('Cross Validation errors + Confidence Limits \\n as a Function of L2 Lambda Values')\n",
    "plt.legend(loc = 'lower right')\n",
    "plt.show()"
   ]
  },
  {
   "cell_type": "markdown",
   "metadata": {},
   "source": [
    "#### L1 Regularization - Lambda Tuning"
   ]
  },
  {
   "cell_type": "code",
   "execution_count": 477,
   "metadata": {},
   "outputs": [
    {
     "data": {
      "image/png": "[encoded data removed]",
      "text/plain": [
       "<Figure size 720x432 with 1 Axes>"
      ]
     },
     "metadata": {
      "needs_background": "light"
     },
     "output_type": "display_data"
    }
   ],
   "source": [
    "alph = [1e-5, 1e-2, 0.1, 1, 10, 100]\n",
    "train_errors_alph, val_errors_alph = xValXGBoost(pd.DataFrame(x_train), y_train['SalePrice'], 3, alph)\n",
    "\n",
    "#Calculating the Mean and the standard errors corresponding to the C values and the 1 standard error Mean(AUC) value:\n",
    "train_mean_alph = {i: sum(train_errors_alph[i])/len(train_errors_alph[i]) for i in train_errors_alph.keys()}\n",
    "val_mean_alph = {i: sum(val_errors_alph[i])/len(val_errors_alph[i]) for i in val_errors_alph.keys()}\n",
    "\n",
    "#Plotting the graph as per the description above:\n",
    "plt.figure(figsize = (10,6))\n",
    "plt.plot(np.log10(alph), train_mean_alph.values(), label = 'Train Mean Values')\n",
    "plt.plot(np.log10(alph), val_mean_alph.values(), label = 'Val Mean Values')\n",
    "plt.xlabel('L1 Regularization - Alpha')\n",
    "plt.ylabel('Mean(errors)')\n",
    "plt.title('Cross Validation errors + Confidence Limits \\n as a Function of L1 Alpha Values')\n",
    "plt.legend(loc = 'lower right')\n",
    "plt.show()"
   ]
  },
  {
   "cell_type": "code",
   "execution_count": null,
   "metadata": {},
   "outputs": [],
   "source": []
  },
  {
   "cell_type": "code",
   "execution_count": 483,
   "metadata": {},
   "outputs": [],
   "source": [
    "#xgb_model = xgb.XGBRegressor(booster='gbtree', max_depth = 6, n_estimators= 1000, learning_rate= 0.1, reg_lambda = 10, reg_alpha = 0.1)\n",
    "xgb_model = xgb.XGBRegressor(booster='gbtree', max_depth = 3, n_estimators= 1000, learning_rate= 0.1, reg_lambda = 0.01, min_child_weight= 4)"
   ]
  },
  {
   "cell_type": "code",
   "execution_count": 504,
   "metadata": {},
   "outputs": [],
   "source": [
    "#xgb_model = xgb.XGBRegressor(booster='gbtree', max_depth = 6, n_estimators= 1000, learning_rate= 0.1, reg_lambda = 10, reg_alpha = 0.1)\n",
    "xgb_model = xgb.XGBRegressor(booster='gbtree', max_depth = 7, n_estimators= 1000, learning_rate= 0.01, min_child_weight = 8, gamma = 0, reg_lambda = 0.00001, reg_alpha= 0.1)"
   ]
  },
  {
   "cell_type": "code",
   "execution_count": 505,
   "metadata": {},
   "outputs": [
    {
     "data": {
      "text/plain": [
       "XGBRegressor(base_score=0.5, booster='gbtree', colsample_bylevel=1,\n",
       "       colsample_bytree=1, gamma=0, learning_rate=0.01, max_delta_step=0,\n",
       "       max_depth=7, min_child_weight=8, missing=None, n_estimators=1000,\n",
       "       n_jobs=1, nthread=None, objective='reg:linear', random_state=0,\n",
       "       reg_alpha=0.1, reg_lambda=1e-05, scale_pos_weight=1, seed=None,\n",
       "       silent=True, subsample=1)"
      ]
     },
     "execution_count": 505,
     "metadata": {},
     "output_type": "execute_result"
    }
   ],
   "source": [
    "xgb_model.fit(x_train, y_train['SalePrice'])"
   ]
  },
  {
   "cell_type": "code",
   "execution_count": 506,
   "metadata": {},
   "outputs": [
    {
     "name": "stdout",
     "output_type": "stream",
     "text": [
      "The train Log RMSE is 0.0485\n",
      "The validation Log RMSE is 0.1271\n"
     ]
    }
   ],
   "source": [
    "print('The train Log RMSE is {:.4f}'.format(log_rmse(xgb_model.predict(x_train), y_train['SalePrice'])))\n",
    "print('The validation Log RMSE is {:.4f}'.format(log_rmse(xgb_model.predict(x_val), y_val['SalePrice'])))"
   ]
  },
  {
   "cell_type": "code",
   "execution_count": null,
   "metadata": {},
   "outputs": [],
   "source": []
  },
  {
   "cell_type": "code",
   "execution_count": null,
   "metadata": {},
   "outputs": [],
   "source": []
  },
  {
   "cell_type": "code",
   "execution_count": 507,
   "metadata": {},
   "outputs": [
    {
     "name": "stdout",
     "output_type": "stream",
     "text": [
      "Fitting 3 folds for each of 18 candidates, totalling 54 fits\n"
     ]
    },
    {
     "name": "stderr",
     "output_type": "stream",
     "text": [
      "[Parallel(n_jobs=6)]: Using backend LokyBackend with 6 concurrent workers.\n",
      "[Parallel(n_jobs=6)]: Done  38 tasks      | elapsed:   58.0s\n",
      "[Parallel(n_jobs=6)]: Done  54 out of  54 | elapsed:  1.1min finished\n"
     ]
    },
    {
     "name": "stdout",
     "output_type": "stream",
     "text": [
      "GridSearchCV took 79.08 seconds for 18 candidate parameter settings.\n"
     ]
    }
   ],
   "source": [
    "clf = xgb.XGBRegressor(booster='gbtree')\n",
    "\n",
    "param_grid = {\"max_depth\": [6, 8],\n",
    "              \"learning_rate\": [0.01],\n",
    "              \"reg_lambda\": [0.00001],\n",
    "              \"reg_alpha\": [0.1],\n",
    "              \"subsample\": [0.5, 0.8, 0.1],\n",
    "              \"colsample_bytree\": [0.5, 0.8, 0.1],\n",
    "              #\"max_features\": [25, 50, None],\n",
    "              #\"min_child_weight\": [1, 4, 10],\n",
    "              \"n_estimators\": [1000]\n",
    "             }\n",
    "\n",
    "# run grid search\n",
    "grid_search = GridSearchCV(clf, param_grid=param_grid, cv=3, scoring= 'neg_mean_squared_error', n_jobs = 6, verbose=True)\n",
    "start = time()\n",
    "grid_search.fit(x_train, y_train['SalePrice'])\n",
    "\n",
    "print(\"GridSearchCV took %.2f seconds for %d candidate parameter settings.\"\n",
    "      % (time() - start, len(grid_search.cv_results_['params'])))"
   ]
  },
  {
   "cell_type": "code",
   "execution_count": 508,
   "metadata": {},
   "outputs": [
    {
     "data": {
      "text/plain": [
       "(-0.01716437803320512,\n",
       " {'colsample_bytree': 0.8,\n",
       "  'learning_rate': 0.01,\n",
       "  'max_depth': 6,\n",
       "  'n_estimators': 1000,\n",
       "  'reg_alpha': 0.1,\n",
       "  'reg_lambda': 1e-05,\n",
       "  'subsample': 0.5})"
      ]
     },
     "execution_count": 508,
     "metadata": {},
     "output_type": "execute_result"
    }
   ],
   "source": [
    "grid_search.best_score_, grid_search.best_params_"
   ]
  },
  {
   "cell_type": "code",
   "execution_count": 577,
   "metadata": {},
   "outputs": [],
   "source": [
    "xgb_model = xgb.XGBRegressor(booster='gbtree', max_depth = 7, n_estimators= 1000, learning_rate= 0.01, min_child_weight = 8, gamma = 0, reg_lambda = 0.00001, reg_alpha= 0.1, colsample_bytree=0.8, subsample=0.5)"
   ]
  },
  {
   "cell_type": "code",
   "execution_count": 578,
   "metadata": {},
   "outputs": [
    {
     "data": {
      "text/plain": [
       "XGBRegressor(base_score=0.5, booster='gbtree', colsample_bylevel=1,\n",
       "       colsample_bytree=0.8, gamma=0, learning_rate=0.01, max_delta_step=0,\n",
       "       max_depth=7, min_child_weight=8, missing=None, n_estimators=1000,\n",
       "       n_jobs=1, nthread=None, objective='reg:linear', random_state=0,\n",
       "       reg_alpha=0.1, reg_lambda=1e-05, scale_pos_weight=1, seed=None,\n",
       "       silent=True, subsample=0.5)"
      ]
     },
     "execution_count": 578,
     "metadata": {},
     "output_type": "execute_result"
    }
   ],
   "source": [
    "#xgb_model.fit(x_train_encoded[test_encoded.columns].drop(['Id'], axis = 1), x_train_encoded['SalePrice'])\n",
    "xgb_model.fit(x_train, y_train['SalePrice'])"
   ]
  },
  {
   "cell_type": "code",
   "execution_count": 579,
   "metadata": {},
   "outputs": [
    {
     "name": "stdout",
     "output_type": "stream",
     "text": [
      "The train Log RMSE is 0.0658\n",
      "The validation Log RMSE is 0.1084\n"
     ]
    }
   ],
   "source": [
    "print('The train Log RMSE is {:.4f}'.format(log_rmse(xgb_model.predict(x_train), y_train['SalePrice'])))\n",
    "print('The validation Log RMSE is {:.4f}'.format(log_rmse(xgb_model.predict(x_val), y_val['SalePrice'])))"
   ]
  },
  {
   "cell_type": "code",
   "execution_count": null,
   "metadata": {},
   "outputs": [],
   "source": []
  },
  {
   "cell_type": "code",
   "execution_count": null,
   "metadata": {},
   "outputs": [],
   "source": []
  }
 ],
 "metadata": {
  "kernelspec": {
   "display_name": "Python 3",
   "language": "python",
   "name": "python3"
  },
  "language_info": {
   "codemirror_mode": {
    "name": "ipython",
    "version": 3
   },
   "file_extension": ".py",
   "mimetype": "text/x-python",
   "name": "python",
   "nbconvert_exporter": "python",
   "pygments_lexer": "ipython3",
   "version": "3.7.1"
  }
 },
 "nbformat": 4,
 "nbformat_minor": 2
}
